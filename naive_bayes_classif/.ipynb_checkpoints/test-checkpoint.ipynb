{
 "cells": [
  {
   "cell_type": "code",
   "execution_count": 9,
   "id": "ac90380e",
   "metadata": {},
   "outputs": [],
   "source": [
    "import matplotlib.pyplot as plt\n",
    "%matplotlib inline\n",
    "import numpy as np"
   ]
  },
  {
   "cell_type": "code",
   "execution_count": 19,
   "id": "bbeda19b",
   "metadata": {},
   "outputs": [],
   "source": [
    "names = ['ahoj', 'beta', 'cis']\n",
    "vals = [0.9, 0.8, -0.6]"
   ]
  },
  {
   "cell_type": "code",
   "execution_count": 20,
   "id": "fd3600c2",
   "metadata": {},
   "outputs": [],
   "source": [
    "colors = ['blue' for x in names]"
   ]
  },
  {
   "cell_type": "code",
   "execution_count": 21,
   "id": "57fcff2e",
   "metadata": {},
   "outputs": [],
   "source": [
    "pos = np.arange(len(names)) + .5"
   ]
  },
  {
   "cell_type": "code",
   "execution_count": 25,
   "id": "9d706028",
   "metadata": {},
   "outputs": [
    {
     "data": {
      "text/plain": [
       "([<matplotlib.axis.YTick at 0x7f1b73a9a460>,\n",
       "  <matplotlib.axis.YTick at 0x7f1b73a94ca0>,\n",
       "  <matplotlib.axis.YTick at 0x7f1b73a8df70>],\n",
       " [Text(0, 0.5, 'ahoj'), Text(0, 1.5, 'beta'), Text(0, 2.5, 'cis')])"
      ]
     },
     "execution_count": 25,
     "metadata": {},
     "output_type": "execute_result"
    },
    {
     "name": "stderr",
     "output_type": "stream",
     "text": [
      "findfont: Font family ['normal'] not found. Falling back to DejaVu Sans.\n"
     ]
    },
    {
     "data": {
      "image/png": "[encoded data removed]",
      "text/plain": [
       "<Figure size 432x288 with 1 Axes>"
      ]
     },
     "metadata": {
      "needs_background": "light"
     },
     "output_type": "display_data"
    }
   ],
   "source": [
    "font = {'family' : 'normal',\n",
    "        'weight' : 'bold',\n",
    "        'size'   : 15}\n",
    "matplotlib.rc('font', **font)\n",
    "plt.barh(pos, vals, align='center', color=colors)\n",
    "plt.yticks(pos, names)"
   ]
  },
  {
   "cell_type": "code",
   "execution_count": 12,
   "id": "a20f3e33",
   "metadata": {},
   "outputs": [],
   "source": [
    "vals.reverse()\n",
    "names.reverse()"
   ]
  },
  {
   "cell_type": "code",
   "execution_count": 13,
   "id": "c790a768",
   "metadata": {},
   "outputs": [
    {
     "data": {
      "text/plain": [
       "([<matplotlib.axis.YTick at 0x7f1b73c3ce20>,\n",
       "  <matplotlib.axis.YTick at 0x7f1b73c3c6a0>,\n",
       "  <matplotlib.axis.YTick at 0x7f1b73cb7c40>],\n",
       " [Text(0, 0.5, 'cis'), Text(0, 1.5, 'beta'), Text(0, 2.5, 'ahoj')])"
      ]
     },
     "execution_count": 13,
     "metadata": {},
     "output_type": "execute_result"
    },
    {
     "data": {
      "image/png": "[encoded data removed]",
      "text/plain": [
       "<Figure size 432x288 with 1 Axes>"
      ]
     },
     "metadata": {
      "needs_background": "light"
     },
     "output_type": "display_data"
    }
   ],
   "source": [
    "plt.barh(pos, vals, align='center', color=colors)\n",
    "plt.yticks(pos, names)"
   ]
  },
  {
   "cell_type": "code",
   "execution_count": 17,
   "id": "69fcaa6a",
   "metadata": {},
   "outputs": [],
   "source": [
    "from IPython.core.display import display, HTML"
   ]
  },
  {
   "cell_type": "code",
   "execution_count": 18,
   "id": "373e0f91",
   "metadata": {},
   "outputs": [],
   "source": [
    "from io import open\n",
    "import os\n",
    "import os.path\n",
    "import json\n",
    "import string\n",
    "import numpy as np"
   ]
  },
  {
   "cell_type": "code",
   "execution_count": null,
   "id": "0cb8f4a7",
   "metadata": {},
   "outputs": [],
   "source": []
  }
 ],
 "metadata": {
  "kernelspec": {
   "display_name": "Python 3 (ipykernel)",
   "language": "python",
   "name": "python3"
  },
  "language_info": {
   "codemirror_mode": {
    "name": "ipython",
    "version": 3
   },
   "file_extension": ".py",
   "mimetype": "text/x-python",
   "name": "python",
   "nbconvert_exporter": "python",
   "pygments_lexer": "ipython3",
   "version": "3.9.7"
  }
 },
 "nbformat": 4,
 "nbformat_minor": 5
}
