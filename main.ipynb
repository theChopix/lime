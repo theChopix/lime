{
 "cells": [
  {
   "cell_type": "code",
   "execution_count": 1,
   "id": "88fb3fc5",
   "metadata": {},
   "outputs": [],
   "source": [
    "from explanation import Explanation\n",
    "from naive_bayes_classif.filter import *\n",
    "from naive_bayes_classif.quality import compute_quality_for_corpus\n",
    "from text_lime import *\n",
    "import pprint"
   ]
  },
  {
   "cell_type": "markdown",
   "id": "969765ff",
   "metadata": {},
   "source": [
    "## Naive Bayesian Filter\n",
    "### Training\n",
    "* First we train our Naive Bayesian Spam-filter on the training data:\n"
   ]
  },
  {
   "cell_type": "code",
   "execution_count": 2,
   "id": "62950755",
   "metadata": {},
   "outputs": [],
   "source": [
    "classif = Filter()\n",
    "classif.train(\"data/1\")"
   ]
  },
  {
   "cell_type": "markdown",
   "id": "c306bf4f",
   "metadata": {},
   "source": [
    "### Testing and Efficiency\n",
    "* With given confusion matrix we can calculate its quality:"
   ]
  },
  {
   "cell_type": "code",
   "execution_count": 3,
   "id": "eb6bbb50",
   "metadata": {},
   "outputs": [
    {
     "name": "stdout",
     "output_type": "stream",
     "text": [
      "{'tp': 365, 'tn': 153, 'fp': 0, 'fn': 96}\n",
      "0.8436482084690554\n"
     ]
    }
   ],
   "source": [
    "average_spam_value = classif.test(\"data/2\")\n",
    "\n",
    "filter_efficiency = compute_quality_for_corpus(\"data/2\")\n",
    "print(filter_efficiency)"
   ]
  },
  {
   "cell_type": "markdown",
   "id": "f2e3fa17",
   "metadata": {},
   "source": [
    "### Inherent Interpretability\n",
    "* Thanks to its relative simplicity (via its formula), the NBF has the property of certain interpretability:"
   ]
  },
  {
   "cell_type": "code",
   "execution_count": 4,
   "id": "a5dd0a7e",
   "metadata": {},
   "outputs": [],
   "source": [
    "path_to_instance = \"data/2/01286.80a17353e03cab185cb52237b60359e4.txt\"\n",
    "probs, relevant_words = classif.test_instance(path_to_instance, n_words=10)"
   ]
  },
  {
   "cell_type": "markdown",
   "id": "7a5f998e",
   "metadata": {},
   "source": [
    "* We can see its most relevant words according to its inherent interpretability:"
   ]
  },
  {
   "cell_type": "code",
   "execution_count": 5,
   "id": "1069d94d",
   "metadata": {},
   "outputs": [
    {
     "name": "stdout",
     "output_type": "stream",
     "text": [
      "[('webmaster', 0.9523809523809523),\n",
      " ('removed', 0.8860759493670887),\n",
      " ('receive', 0.823529411764706),\n",
      " ('priority', 0.7857142857142856),\n",
      " ('earning', 0.7692307692307693),\n",
      " ('confidential', 0.7500000000000001),\n",
      " ('classes', 0.7352941176470588),\n",
      " ('verified', 0.7),\n",
      " ('confidentiality', 0.7),\n",
      " ('deliver', 0.6785714285714286)]\n"
     ]
    }
   ],
   "source": [
    "pprint.pprint(relevant_words) # can be removed"
   ]
  },
  {
   "cell_type": "code",
   "execution_count": 6,
   "id": "07cdac07",
   "metadata": {},
   "outputs": [
    {
     "data": {
      "text/html": [
       "<div>\n",
       "<style scoped>\n",
       "    .dataframe tbody tr th:only-of-type {\n",
       "        vertical-align: middle;\n",
       "    }\n",
       "\n",
       "    .dataframe tbody tr th {\n",
       "        vertical-align: top;\n",
       "    }\n",
       "\n",
       "    .dataframe thead th {\n",
       "        text-align: right;\n",
       "    }\n",
       "</style>\n",
       "<table border=\"1\" class=\"dataframe\">\n",
       "  <thead>\n",
       "    <tr style=\"text-align: right;\">\n",
       "      <th></th>\n",
       "      <th>Values</th>\n",
       "    </tr>\n",
       "    <tr>\n",
       "      <th>Features</th>\n",
       "      <th></th>\n",
       "    </tr>\n",
       "  </thead>\n",
       "  <tbody>\n",
       "    <tr>\n",
       "      <th>webmaster</th>\n",
       "      <td>0.952381</td>\n",
       "    </tr>\n",
       "    <tr>\n",
       "      <th>removed</th>\n",
       "      <td>0.886076</td>\n",
       "    </tr>\n",
       "    <tr>\n",
       "      <th>receive</th>\n",
       "      <td>0.823529</td>\n",
       "    </tr>\n",
       "    <tr>\n",
       "      <th>priority</th>\n",
       "      <td>0.785714</td>\n",
       "    </tr>\n",
       "    <tr>\n",
       "      <th>earning</th>\n",
       "      <td>0.769231</td>\n",
       "    </tr>\n",
       "    <tr>\n",
       "      <th>confidential</th>\n",
       "      <td>0.750000</td>\n",
       "    </tr>\n",
       "    <tr>\n",
       "      <th>classes</th>\n",
       "      <td>0.735294</td>\n",
       "    </tr>\n",
       "    <tr>\n",
       "      <th>verified</th>\n",
       "      <td>0.700000</td>\n",
       "    </tr>\n",
       "    <tr>\n",
       "      <th>confidentiality</th>\n",
       "      <td>0.700000</td>\n",
       "    </tr>\n",
       "    <tr>\n",
       "      <th>deliver</th>\n",
       "      <td>0.678571</td>\n",
       "    </tr>\n",
       "  </tbody>\n",
       "</table>\n",
       "</div>"
      ],
      "text/plain": [
       "                   Values\n",
       "Features                 \n",
       "webmaster        0.952381\n",
       "removed          0.886076\n",
       "receive          0.823529\n",
       "priority         0.785714\n",
       "earning          0.769231\n",
       "confidential     0.750000\n",
       "classes          0.735294\n",
       "verified         0.700000\n",
       "confidentiality  0.700000\n",
       "deliver          0.678571"
      ]
     },
     "execution_count": 6,
     "metadata": {},
     "output_type": "execute_result"
    }
   ],
   "source": [
    "bayes_interpretation = Explanation(relevant_words, plot_title=\"Naive Bayes Classifier Interpretation\", \n",
    "                                       x_label=\"partial probabilities\")\n",
    "bayes_interpretation.text_plot()"
   ]
  },
  {
   "cell_type": "code",
   "execution_count": 7,
   "id": "a4282efc",
   "metadata": {},
   "outputs": [
    {
     "data": {
      "image/png": "[encoded data removed]",
      "text/plain": [
       "<Figure size 576x360 with 1 Axes>"
      ]
     },
     "metadata": {},
     "output_type": "display_data"
    }
   ],
   "source": [
    "bayes_interpretation.graph_plot()"
   ]
  },
  {
   "cell_type": "markdown",
   "id": "d65864e3",
   "metadata": {},
   "source": [
    "## LIME\n",
    "### Shapley\n",
    "* If we try to explain the instance using the LIME method for expalanation and adjust the weights to the size of the coalitions, the task leads to the Shapley values:"
   ]
  },
  {
   "cell_type": "code",
   "execution_count": 8,
   "id": "7c1780c7",
   "metadata": {},
   "outputs": [],
   "source": [
    "limeTextExplainer = LimeTextExplainer(path_to_instance, classif, relevant_words, average_spam_value)\n",
    "shapley_explanation_values = limeTextExplainer.explain_instance(weight_type=\"shapley\")"
   ]
  },
  {
   "cell_type": "code",
   "execution_count": 9,
   "id": "b8b39c0a",
   "metadata": {},
   "outputs": [
    {
     "name": "stdout",
     "output_type": "stream",
     "text": [
      "[-0.05873961 -0.02268564  0.0020367   0.01605241  0.02124584 -0.02066574\n",
      "  0.03123251  0.02064249 -0.02066574  0.06333259]\n"
     ]
    },
    {
     "data": {
      "text/plain": [
       "0.03178580773415657"
      ]
     },
     "execution_count": 9,
     "metadata": {},
     "output_type": "execute_result"
    }
   ],
   "source": [
    "print(shapley_explanation_values)\n",
    "np.sum(np.array(shapley_explanation_values))"
   ]
  },
  {
   "cell_type": "code",
   "execution_count": 10,
   "id": "6c064521",
   "metadata": {},
   "outputs": [
    {
     "name": "stdout",
     "output_type": "stream",
     "text": [
      "[('webmaster', -0.0587396139593202),\n",
      " ('removed', -0.022685641394025555),\n",
      " ('receive', 0.0020367020626698828),\n",
      " ('priority', 0.016052409887957336),\n",
      " ('earning', 0.021245842525761442),\n",
      " ('confidential', -0.02066574200473263),\n",
      " ('classes', 0.031232512151839753),\n",
      " ('verified', 0.020642486037890453),\n",
      " ('confidentiality', -0.020665742004732673),\n",
      " ('deliver', 0.06333259443084875)]\n"
     ]
    }
   ],
   "source": [
    "shapley_explanation = list(zip([word[0] for word in relevant_words], shapley_explanation_values))\n",
    "pprint.pprint(shapley_explanation)"
   ]
  },
  {
   "cell_type": "code",
   "execution_count": 11,
   "id": "08810059",
   "metadata": {},
   "outputs": [
    {
     "data": {
      "text/html": [
       "<div>\n",
       "<style scoped>\n",
       "    .dataframe tbody tr th:only-of-type {\n",
       "        vertical-align: middle;\n",
       "    }\n",
       "\n",
       "    .dataframe tbody tr th {\n",
       "        vertical-align: top;\n",
       "    }\n",
       "\n",
       "    .dataframe thead th {\n",
       "        text-align: right;\n",
       "    }\n",
       "</style>\n",
       "<table border=\"1\" class=\"dataframe\">\n",
       "  <thead>\n",
       "    <tr style=\"text-align: right;\">\n",
       "      <th></th>\n",
       "      <th>Values</th>\n",
       "    </tr>\n",
       "    <tr>\n",
       "      <th>Features</th>\n",
       "      <th></th>\n",
       "    </tr>\n",
       "  </thead>\n",
       "  <tbody>\n",
       "    <tr>\n",
       "      <th>webmaster</th>\n",
       "      <td>-0.058740</td>\n",
       "    </tr>\n",
       "    <tr>\n",
       "      <th>removed</th>\n",
       "      <td>-0.022686</td>\n",
       "    </tr>\n",
       "    <tr>\n",
       "      <th>receive</th>\n",
       "      <td>0.002037</td>\n",
       "    </tr>\n",
       "    <tr>\n",
       "      <th>priority</th>\n",
       "      <td>0.016052</td>\n",
       "    </tr>\n",
       "    <tr>\n",
       "      <th>earning</th>\n",
       "      <td>0.021246</td>\n",
       "    </tr>\n",
       "    <tr>\n",
       "      <th>confidential</th>\n",
       "      <td>-0.020666</td>\n",
       "    </tr>\n",
       "    <tr>\n",
       "      <th>classes</th>\n",
       "      <td>0.031233</td>\n",
       "    </tr>\n",
       "    <tr>\n",
       "      <th>verified</th>\n",
       "      <td>0.020642</td>\n",
       "    </tr>\n",
       "    <tr>\n",
       "      <th>confidentiality</th>\n",
       "      <td>-0.020666</td>\n",
       "    </tr>\n",
       "    <tr>\n",
       "      <th>deliver</th>\n",
       "      <td>0.063333</td>\n",
       "    </tr>\n",
       "  </tbody>\n",
       "</table>\n",
       "</div>"
      ],
      "text/plain": [
       "                   Values\n",
       "Features                 \n",
       "webmaster       -0.058740\n",
       "removed         -0.022686\n",
       "receive          0.002037\n",
       "priority         0.016052\n",
       "earning          0.021246\n",
       "confidential    -0.020666\n",
       "classes          0.031233\n",
       "verified         0.020642\n",
       "confidentiality -0.020666\n",
       "deliver          0.063333"
      ]
     },
     "execution_count": 11,
     "metadata": {},
     "output_type": "execute_result"
    }
   ],
   "source": [
    "shapley_visualization = Explanation(shapley_explanation, plot_title=\"Shapley Explanation\", \n",
    "                                       x_label=\"shapley values\")\n",
    "shapley_visualization.text_plot()"
   ]
  },
  {
   "cell_type": "code",
   "execution_count": 12,
   "id": "2ac425bb",
   "metadata": {},
   "outputs": [
    {
     "data": {
      "image/png": "[encoded data removed]",
      "text/plain": [
       "<Figure size 576x360 with 1 Axes>"
      ]
     },
     "metadata": {},
     "output_type": "display_data"
    }
   ],
   "source": [
    "shapley_visualization.graph_plot(gradient=True)"
   ]
  },
  {
   "cell_type": "markdown",
   "id": "a3183119",
   "metadata": {},
   "source": [
    "### Banzhaf\n",
    "\n",
    "* On the other hand, if we assign equal weight to each coalition in LIME we get so called banzhaf values:\n"
   ]
  },
  {
   "cell_type": "code",
   "execution_count": 13,
   "id": "55e9f10c",
   "metadata": {},
   "outputs": [],
   "source": [
    "banzhaf_explanation_values = limeTextExplainer.explain_instance(weight_type=\"banzhaf\")"
   ]
  },
  {
   "cell_type": "code",
   "execution_count": 14,
   "id": "b80f0028",
   "metadata": {},
   "outputs": [
    {
     "name": "stdout",
     "output_type": "stream",
     "text": [
      "[('webmaster', -0.01737009005176668),\n",
      " ('removed', -0.007417489854033073),\n",
      " ('receive', 0.00021676440223799068),\n",
      " ('priority', 0.004824807836283153),\n",
      " ('earning', 0.006583238369581642),\n",
      " ('confidential', 0.0002960772584918586),\n",
      " ('classes', 0.010041667570846794),\n",
      " ('verified', 0.006377534016720874),\n",
      " ('confidentiality', 0.00029607725849184127),\n",
      " ('deliver', 0.02176551302330016)]\n"
     ]
    }
   ],
   "source": [
    "banzhaf_explanation = list(zip([word[0] for word in relevant_words], banzhaf_explanation_values))\n",
    "pprint.pprint(banzhaf_explanation)"
   ]
  },
  {
   "cell_type": "code",
   "execution_count": 17,
   "id": "4dc9cb72",
   "metadata": {},
   "outputs": [
    {
     "data": {
      "text/html": [
       "<div>\n",
       "<style scoped>\n",
       "    .dataframe tbody tr th:only-of-type {\n",
       "        vertical-align: middle;\n",
       "    }\n",
       "\n",
       "    .dataframe tbody tr th {\n",
       "        vertical-align: top;\n",
       "    }\n",
       "\n",
       "    .dataframe thead th {\n",
       "        text-align: right;\n",
       "    }\n",
       "</style>\n",
       "<table border=\"1\" class=\"dataframe\">\n",
       "  <thead>\n",
       "    <tr style=\"text-align: right;\">\n",
       "      <th></th>\n",
       "      <th>Values</th>\n",
       "    </tr>\n",
       "    <tr>\n",
       "      <th>Features</th>\n",
       "      <th></th>\n",
       "    </tr>\n",
       "  </thead>\n",
       "  <tbody>\n",
       "    <tr>\n",
       "      <th>webmaster</th>\n",
       "      <td>-0.017370</td>\n",
       "    </tr>\n",
       "    <tr>\n",
       "      <th>removed</th>\n",
       "      <td>-0.007417</td>\n",
       "    </tr>\n",
       "    <tr>\n",
       "      <th>receive</th>\n",
       "      <td>0.000217</td>\n",
       "    </tr>\n",
       "    <tr>\n",
       "      <th>priority</th>\n",
       "      <td>0.004825</td>\n",
       "    </tr>\n",
       "    <tr>\n",
       "      <th>earning</th>\n",
       "      <td>0.006583</td>\n",
       "    </tr>\n",
       "    <tr>\n",
       "      <th>confidential</th>\n",
       "      <td>0.000296</td>\n",
       "    </tr>\n",
       "    <tr>\n",
       "      <th>classes</th>\n",
       "      <td>0.010042</td>\n",
       "    </tr>\n",
       "    <tr>\n",
       "      <th>verified</th>\n",
       "      <td>0.006378</td>\n",
       "    </tr>\n",
       "    <tr>\n",
       "      <th>confidentiality</th>\n",
       "      <td>0.000296</td>\n",
       "    </tr>\n",
       "    <tr>\n",
       "      <th>deliver</th>\n",
       "      <td>0.021766</td>\n",
       "    </tr>\n",
       "  </tbody>\n",
       "</table>\n",
       "</div>"
      ],
      "text/plain": [
       "                   Values\n",
       "Features                 \n",
       "webmaster       -0.017370\n",
       "removed         -0.007417\n",
       "receive          0.000217\n",
       "priority         0.004825\n",
       "earning          0.006583\n",
       "confidential     0.000296\n",
       "classes          0.010042\n",
       "verified         0.006378\n",
       "confidentiality  0.000296\n",
       "deliver          0.021766"
      ]
     },
     "execution_count": 17,
     "metadata": {},
     "output_type": "execute_result"
    }
   ],
   "source": [
    "banzhaf_visualization = Explanation(banzhaf_explanation, plot_title=\"Banzhaf Explanation\", \n",
    "                                       x_label=\"shapley values\")\n",
    "banzhaf_visualization.text_plot()"
   ]
  },
  {
   "cell_type": "code",
   "execution_count": 18,
   "id": "499b67fe",
   "metadata": {},
   "outputs": [
    {
     "data": {
      "image/png": "[encoded data removed]",
      "text/plain": [
       "<Figure size 576x360 with 1 Axes>"
      ]
     },
     "metadata": {},
     "output_type": "display_data"
    }
   ],
   "source": [
    "banzhaf_visualization.graph_plot(gradient=True)"
   ]
  },
  {
   "cell_type": "code",
   "execution_count": null,
   "id": "07cb2b6a",
   "metadata": {},
   "outputs": [],
   "source": []
  }
 ],
 "metadata": {
  "kernelspec": {
   "display_name": "Python 3 (ipykernel)",
   "language": "python",
   "name": "python3"
  },
  "language_info": {
   "codemirror_mode": {
    "name": "ipython",
    "version": 3
   },
   "file_extension": ".py",
   "mimetype": "text/x-python",
   "name": "python",
   "nbconvert_exporter": "python",
   "pygments_lexer": "ipython3",
   "version": "3.9.7"
  }
 },
 "nbformat": 4,
 "nbformat_minor": 5
}
