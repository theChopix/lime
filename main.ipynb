{
 "cells": [
  {
   "cell_type": "code",
   "execution_count": 1,
   "id": "88fb3fc5",
   "metadata": {},
   "outputs": [],
   "source": [
    "from explanation import Explanation\n",
    "from naive_bayes_classif.filter import *\n",
    "from naive_bayes_classif.quality import compute_quality_for_corpus\n",
    "import pprint"
   ]
  },
  {
   "cell_type": "code",
   "execution_count": 2,
   "id": "62950755",
   "metadata": {},
   "outputs": [],
   "source": [
    "classif = Filter()\n",
    "classif.train(\"data/1\")"
   ]
  },
  {
   "cell_type": "code",
   "execution_count": 3,
   "id": "eb6bbb50",
   "metadata": {},
   "outputs": [
    {
     "name": "stdout",
     "output_type": "stream",
     "text": [
      "{'tp': 365, 'tn': 153, 'fp': 0, 'fn': 96}\n",
      "0.8436482084690554\n"
     ]
    }
   ],
   "source": [
    "classif.test(\"data/2\")\n",
    "filter_efficiency = compute_quality_for_corpus(\"data/2\")\n",
    "print(filter_efficiency)"
   ]
  },
  {
   "cell_type": "code",
   "execution_count": 5,
   "id": "a5dd0a7e",
   "metadata": {},
   "outputs": [],
   "source": [
    "path_to_instance = \"data/2/01286.80a17353e03cab185cb52237b60359e4.txt\"\n",
    "probs, relevant_words = classif.test_instance(path_to_instance)"
   ]
  },
  {
   "cell_type": "code",
   "execution_count": 6,
   "id": "1069d94d",
   "metadata": {},
   "outputs": [
    {
     "name": "stdout",
     "output_type": "stream",
     "text": [
      "[('webmaster', 0.9523809523809523),\n",
      " ('removed', 0.8860759493670887),\n",
      " ('receive', 0.823529411764706),\n",
      " ('priority', 0.7857142857142856),\n",
      " ('earning', 0.7692307692307693),\n",
      " ('confidential', 0.7500000000000001),\n",
      " ('classes', 0.7352941176470588),\n",
      " ('verified', 0.7),\n",
      " ('confidentiality', 0.7),\n",
      " ('deliver', 0.6785714285714286)]\n"
     ]
    }
   ],
   "source": [
    "pprint.pprint(relevant_words)"
   ]
  },
  {
   "cell_type": "code",
   "execution_count": 7,
   "id": "07cdac07",
   "metadata": {},
   "outputs": [
    {
     "data": {
      "text/html": [
       "<div>\n",
       "<style scoped>\n",
       "    .dataframe tbody tr th:only-of-type {\n",
       "        vertical-align: middle;\n",
       "    }\n",
       "\n",
       "    .dataframe tbody tr th {\n",
       "        vertical-align: top;\n",
       "    }\n",
       "\n",
       "    .dataframe thead th {\n",
       "        text-align: right;\n",
       "    }\n",
       "</style>\n",
       "<table border=\"1\" class=\"dataframe\">\n",
       "  <thead>\n",
       "    <tr style=\"text-align: right;\">\n",
       "      <th></th>\n",
       "      <th>Values</th>\n",
       "    </tr>\n",
       "    <tr>\n",
       "      <th>Features</th>\n",
       "      <th></th>\n",
       "    </tr>\n",
       "  </thead>\n",
       "  <tbody>\n",
       "    <tr>\n",
       "      <th>webmaster</th>\n",
       "      <td>0.952381</td>\n",
       "    </tr>\n",
       "    <tr>\n",
       "      <th>removed</th>\n",
       "      <td>0.886076</td>\n",
       "    </tr>\n",
       "    <tr>\n",
       "      <th>receive</th>\n",
       "      <td>0.823529</td>\n",
       "    </tr>\n",
       "    <tr>\n",
       "      <th>priority</th>\n",
       "      <td>0.785714</td>\n",
       "    </tr>\n",
       "    <tr>\n",
       "      <th>earning</th>\n",
       "      <td>0.769231</td>\n",
       "    </tr>\n",
       "    <tr>\n",
       "      <th>confidential</th>\n",
       "      <td>0.750000</td>\n",
       "    </tr>\n",
       "    <tr>\n",
       "      <th>classes</th>\n",
       "      <td>0.735294</td>\n",
       "    </tr>\n",
       "    <tr>\n",
       "      <th>verified</th>\n",
       "      <td>0.700000</td>\n",
       "    </tr>\n",
       "    <tr>\n",
       "      <th>confidentiality</th>\n",
       "      <td>0.700000</td>\n",
       "    </tr>\n",
       "    <tr>\n",
       "      <th>deliver</th>\n",
       "      <td>0.678571</td>\n",
       "    </tr>\n",
       "  </tbody>\n",
       "</table>\n",
       "</div>"
      ],
      "text/plain": [
       "                   Values\n",
       "Features                 \n",
       "webmaster        0.952381\n",
       "removed          0.886076\n",
       "receive          0.823529\n",
       "priority         0.785714\n",
       "earning          0.769231\n",
       "confidential     0.750000\n",
       "classes          0.735294\n",
       "verified         0.700000\n",
       "confidentiality  0.700000\n",
       "deliver          0.678571"
      ]
     },
     "execution_count": 7,
     "metadata": {},
     "output_type": "execute_result"
    }
   ],
   "source": [
    "bayes_interpretation = Explanation(relevant_words, plot_title=\"Naive Bayes Classifier Interpretation\", \n",
    "                                       x_label=\"partial probabilities\")\n",
    "bayes_interpretation.text_plot()"
   ]
  },
  {
   "cell_type": "code",
   "execution_count": 9,
   "id": "a4282efc",
   "metadata": {},
   "outputs": [
    {
     "data": {
      "image/png": "[encoded data removed]",
      "text/plain": [
       "<Figure size 576x360 with 1 Axes>"
      ]
     },
     "metadata": {},
     "output_type": "display_data"
    }
   ],
   "source": [
    "bayes_interpretation.graph_plot(gradient=True)"
   ]
  },
  {
   "cell_type": "code",
   "execution_count": null,
   "id": "7c1780c7",
   "metadata": {},
   "outputs": [],
   "source": []
  },
  {
   "cell_type": "code",
   "execution_count": null,
   "id": "08810059",
   "metadata": {},
   "outputs": [],
   "source": []
  }
 ],
 "metadata": {
  "kernelspec": {
   "display_name": "Python 3 (ipykernel)",
   "language": "python",
   "name": "python3"
  },
  "language_info": {
   "codemirror_mode": {
    "name": "ipython",
    "version": 3
   },
   "file_extension": ".py",
   "mimetype": "text/x-python",
   "name": "python",
   "nbconvert_exporter": "python",
   "pygments_lexer": "ipython3",
   "version": "3.9.7"
  }
 },
 "nbformat": 4,
 "nbformat_minor": 5
}
