{
 "cells": [
  {
   "cell_type": "code",
   "execution_count": 1,
   "id": "500a4a9d",
   "metadata": {},
   "outputs": [],
   "source": [
    "from explanation import Explanation\n",
    "from naive_bayes_classif.filter import *\n",
    "from naive_bayes_classif.quality import compute_quality_for_corpus\n",
    "from text_lime import *\n",
    "import pprint"
   ]
  },
  {
   "cell_type": "code",
   "execution_count": 2,
   "id": "63a8252c",
   "metadata": {},
   "outputs": [],
   "source": [
    "#"
   ]
  },
  {
   "cell_type": "code",
   "execution_count": 3,
   "id": "a84bcbf8",
   "metadata": {},
   "outputs": [],
   "source": [
    "classif = Filter()\n",
    "classif.train(\"data/1\")"
   ]
  },
  {
   "cell_type": "code",
   "execution_count": 4,
   "id": "3c1ad372",
   "metadata": {},
   "outputs": [],
   "source": [
    "#"
   ]
  },
  {
   "cell_type": "code",
   "execution_count": 5,
   "id": "90837632",
   "metadata": {},
   "outputs": [
    {
     "name": "stdout",
     "output_type": "stream",
     "text": [
      "{'tp': 365, 'tn': 153, 'fp': 0, 'fn': 96}\n",
      "0.8436482084690554\n"
     ]
    }
   ],
   "source": [
    "average_spam_value = classif.test(\"data/2\")\n",
    "\n",
    "filter_efficiency = compute_quality_for_corpus(\"data/2\")\n",
    "print(filter_efficiency)"
   ]
  },
  {
   "cell_type": "code",
   "execution_count": 6,
   "id": "54bcf029",
   "metadata": {},
   "outputs": [],
   "source": [
    "#"
   ]
  },
  {
   "cell_type": "code",
   "execution_count": 14,
   "id": "a4b2a982",
   "metadata": {},
   "outputs": [],
   "source": [
    "path_to_instance = \"data/2/01286.80a17353e03cab185cb52237b60359e4.txt\"\n",
    "probs, relevant_words = classif.test_instance(path_to_instance, n_words=3)"
   ]
  },
  {
   "cell_type": "code",
   "execution_count": 15,
   "id": "dd72dc9f",
   "metadata": {},
   "outputs": [],
   "source": [
    "#"
   ]
  },
  {
   "cell_type": "code",
   "execution_count": 16,
   "id": "a150e284",
   "metadata": {},
   "outputs": [
    {
     "name": "stdout",
     "output_type": "stream",
     "text": [
      "[('webmaster', 0.9523809523809523),\n",
      " ('removed', 0.8860759493670887),\n",
      " ('receive', 0.823529411764706)]\n"
     ]
    }
   ],
   "source": [
    "pprint.pprint(relevant_words) # can be removed"
   ]
  },
  {
   "cell_type": "code",
   "execution_count": 17,
   "id": "a7fa9187",
   "metadata": {},
   "outputs": [
    {
     "data": {
      "text/html": [
       "<div>\n",
       "<style scoped>\n",
       "    .dataframe tbody tr th:only-of-type {\n",
       "        vertical-align: middle;\n",
       "    }\n",
       "\n",
       "    .dataframe tbody tr th {\n",
       "        vertical-align: top;\n",
       "    }\n",
       "\n",
       "    .dataframe thead th {\n",
       "        text-align: right;\n",
       "    }\n",
       "</style>\n",
       "<table border=\"1\" class=\"dataframe\">\n",
       "  <thead>\n",
       "    <tr style=\"text-align: right;\">\n",
       "      <th></th>\n",
       "      <th>Values</th>\n",
       "    </tr>\n",
       "    <tr>\n",
       "      <th>Features</th>\n",
       "      <th></th>\n",
       "    </tr>\n",
       "  </thead>\n",
       "  <tbody>\n",
       "    <tr>\n",
       "      <th>webmaster</th>\n",
       "      <td>0.952381</td>\n",
       "    </tr>\n",
       "    <tr>\n",
       "      <th>removed</th>\n",
       "      <td>0.886076</td>\n",
       "    </tr>\n",
       "    <tr>\n",
       "      <th>receive</th>\n",
       "      <td>0.823529</td>\n",
       "    </tr>\n",
       "  </tbody>\n",
       "</table>\n",
       "</div>"
      ],
      "text/plain": [
       "             Values\n",
       "Features           \n",
       "webmaster  0.952381\n",
       "removed    0.886076\n",
       "receive    0.823529"
      ]
     },
     "execution_count": 17,
     "metadata": {},
     "output_type": "execute_result"
    }
   ],
   "source": [
    "bayes_interpretation = Explanation(relevant_words, plot_title=\"Naive Bayes Classifier Interpretation\", \n",
    "                                       x_label=\"partial probabilities\")\n",
    "bayes_interpretation.text_plot()"
   ]
  },
  {
   "cell_type": "code",
   "execution_count": 18,
   "id": "1991cb59",
   "metadata": {},
   "outputs": [],
   "source": [
    "#"
   ]
  },
  {
   "cell_type": "code",
   "execution_count": 19,
   "id": "8e4b7f36",
   "metadata": {},
   "outputs": [
    {
     "data": {
      "image/png": "[encoded data removed]",
      "text/plain": [
       "<Figure size 576x360 with 1 Axes>"
      ]
     },
     "metadata": {},
     "output_type": "display_data"
    }
   ],
   "source": [
    "bayes_interpretation.graph_plot()"
   ]
  },
  {
   "cell_type": "code",
   "execution_count": 20,
   "id": "dbb4d855",
   "metadata": {},
   "outputs": [
    {
     "name": "stdout",
     "output_type": "stream",
     "text": [
      "[[1.         0.         0.         0.         0.         0.\n",
      "  0.         0.        ]\n",
      " [0.         0.33333333 0.         0.         0.         0.\n",
      "  0.         0.        ]\n",
      " [0.         0.         0.33333333 0.         0.         0.\n",
      "  0.         0.        ]\n",
      " [0.         0.         0.         0.33333333 0.         0.\n",
      "  0.         0.        ]\n",
      " [0.         0.         0.         0.         0.33333333 0.\n",
      "  0.         0.        ]\n",
      " [0.         0.         0.         0.         0.         0.33333333\n",
      "  0.         0.        ]\n",
      " [0.         0.         0.         0.         0.         0.\n",
      "  0.33333333 0.        ]\n",
      " [0.         0.         0.         0.         0.         0.\n",
      "  0.         1.        ]]\n",
      "[[0 0 0]\n",
      " [0 0 1]\n",
      " [0 1 0]\n",
      " [0 1 1]\n",
      " [1 0 0]\n",
      " [1 0 1]\n",
      " [1 1 0]\n",
      " [1 1 1]]\n",
      "[0.83782704 0.52049612 0.39912257 0.12247052 0.20528505 0.05148037\n",
      " 0.03214409 0.00692979]\n"
     ]
    }
   ],
   "source": [
    "limeTextExplainer = LimeTextExplainer(path_to_instance, classif, relevant_words, average_spam_value)\n",
    "shapley_explanation_values = limeTextExplainer.explain_instance(weight_type=\"shapley\")"
   ]
  },
  {
   "cell_type": "code",
   "execution_count": null,
   "id": "efd656a8",
   "metadata": {},
   "outputs": [],
   "source": []
  }
 ],
 "metadata": {
  "kernelspec": {
   "display_name": "Python 3 (ipykernel)",
   "language": "python",
   "name": "python3"
  },
  "language_info": {
   "codemirror_mode": {
    "name": "ipython",
    "version": 3
   },
   "file_extension": ".py",
   "mimetype": "text/x-python",
   "name": "python",
   "nbconvert_exporter": "python",
   "pygments_lexer": "ipython3",
   "version": "3.9.7"
  }
 },
 "nbformat": 4,
 "nbformat_minor": 5
}
